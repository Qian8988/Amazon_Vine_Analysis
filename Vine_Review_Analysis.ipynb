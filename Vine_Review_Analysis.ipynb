{
  "nbformat": 4,
  "nbformat_minor": 0,
  "metadata": {
    "colab": {
      "name": "Vine_Review_Analysis.ipynb",
      "provenance": [],
      "authorship_tag": "ABX9TyOXZqOblUNowly6qeHWPCr4",
      "include_colab_link": true
    },
    "kernelspec": {
      "name": "python3",
      "display_name": "Python 3"
    },
    "language_info": {
      "name": "python"
    }
  },
  "cells": [
    {
      "cell_type": "markdown",
      "metadata": {
        "id": "view-in-github",
        "colab_type": "text"
      },
      "source": [
        "<a href=\"https://colab.research.google.com/github/Qian8988/Amazon_Vine_Analysis/blob/main/Vine_Review_Analysis.ipynb\" target=\"_parent\"><img src=\"https://colab.research.google.com/assets/colab-badge.svg\" alt=\"Open In Colab\"/></a>"
      ]
    },
    {
      "cell_type": "code",
      "metadata": {
        "id": "3XOF0EVtnBCk"
      },
      "source": [
        ""
      ],
      "execution_count": null,
      "outputs": []
    },
    {
      "cell_type": "code",
      "metadata": {
        "id": "V58rxea0HqSa",
        "colab": {
          "base_uri": "https://localhost:8080/"
        },
        "outputId": "f9d71b3f-a0ea-4082-fef0-bfe14318cd3f"
      },
      "source": [
        "import os\n",
        "# Find the latest version of spark 3.0 from http://www.apache.org/dist/spark/ and enter as the spark version\n",
        "# For example:\n",
        "# spark_version = 'spark-3.0.3'\n",
        "spark_version = 'spark-3.0.3'\n",
        "os.environ['SPARK_VERSION']=spark_version\n",
        "\n",
        "# Install Spark and Java\n",
        "!apt-get update\n",
        "!apt-get install openjdk-11-jdk-headless -qq > /dev/null\n",
        "!wget -q http://www.apache.org/dist/spark/$SPARK_VERSION/$SPARK_VERSION-bin-hadoop2.7.tgz\n",
        "!tar xf $SPARK_VERSION-bin-hadoop2.7.tgz\n",
        "!pip install -q findspark\n",
        "\n",
        "# Set Environment Variables\n",
        "import os\n",
        "os.environ[\"JAVA_HOME\"] = \"/usr/lib/jvm/java-11-openjdk-amd64\"\n",
        "os.environ[\"SPARK_HOME\"] = f\"/content/{spark_version}-bin-hadoop2.7\"\n",
        "\n",
        "# Start a SparkSession\n",
        "import findspark\n",
        "findspark.init()"
      ],
      "execution_count": 1,
      "outputs": [
        {
          "output_type": "stream",
          "name": "stdout",
          "text": [
            "\r0% [Working]\r            \rGet:1 http://security.ubuntu.com/ubuntu bionic-security InRelease [88.7 kB]\n",
            "\r0% [Connecting to archive.ubuntu.com (91.189.88.142)] [1 InRelease 0 B/88.7 kB \r0% [Connecting to archive.ubuntu.com (91.189.88.142)] [Connected to cloud.r-pro\r0% [1 InRelease gpgv 88.7 kB] [Waiting for headers] [Waiting for headers] [Wait\r                                                                               \rGet:2 https://cloud.r-project.org/bin/linux/ubuntu bionic-cran40/ InRelease [3,626 B]\n",
            "\r0% [1 InRelease gpgv 88.7 kB] [Waiting for headers] [2 InRelease 3,626 B/3,626 \r0% [1 InRelease gpgv 88.7 kB] [Waiting for headers] [Waiting for headers] [Wait\r                                                                               \rHit:3 http://archive.ubuntu.com/ubuntu bionic InRelease\n",
            "\r                                                                               \rGet:4 http://ppa.launchpad.net/c2d4u.team/c2d4u4.0+/ubuntu bionic InRelease [15.9 kB]\n",
            "Ign:5 https://developer.download.nvidia.com/compute/cuda/repos/ubuntu1804/x86_64  InRelease\n",
            "Get:6 http://archive.ubuntu.com/ubuntu bionic-updates InRelease [88.7 kB]\n",
            "Ign:7 https://developer.download.nvidia.com/compute/machine-learning/repos/ubuntu1804/x86_64  InRelease\n",
            "Get:8 https://developer.download.nvidia.com/compute/cuda/repos/ubuntu1804/x86_64  Release [696 B]\n",
            "Hit:9 https://developer.download.nvidia.com/compute/machine-learning/repos/ubuntu1804/x86_64  Release\n",
            "Get:10 https://developer.download.nvidia.com/compute/cuda/repos/ubuntu1804/x86_64  Release.gpg [836 B]\n",
            "Hit:11 http://ppa.launchpad.net/cran/libgit2/ubuntu bionic InRelease\n",
            "Get:12 http://archive.ubuntu.com/ubuntu bionic-backports InRelease [74.6 kB]\n",
            "Get:13 http://ppa.launchpad.net/deadsnakes/ppa/ubuntu bionic InRelease [15.9 kB]\n",
            "Get:14 http://security.ubuntu.com/ubuntu bionic-security/main amd64 Packages [2,396 kB]\n",
            "Get:15 http://security.ubuntu.com/ubuntu bionic-security/restricted amd64 Packages [630 kB]\n",
            "Hit:16 http://ppa.launchpad.net/graphics-drivers/ppa/ubuntu bionic InRelease\n",
            "Get:17 http://security.ubuntu.com/ubuntu bionic-security/universe amd64 Packages [1,434 kB]\n",
            "Get:18 https://cloud.r-project.org/bin/linux/ubuntu bionic-cran40/ Packages [69.5 kB]\n",
            "Get:19 http://ppa.launchpad.net/c2d4u.team/c2d4u4.0+/ubuntu bionic/main Sources [1,809 kB]\n",
            "Get:21 https://developer.download.nvidia.com/compute/cuda/repos/ubuntu1804/x86_64  Packages [753 kB]\n",
            "Get:22 http://ppa.launchpad.net/c2d4u.team/c2d4u4.0+/ubuntu bionic/main amd64 Packages [926 kB]\n",
            "Get:23 http://archive.ubuntu.com/ubuntu bionic-updates/universe amd64 Packages [2,213 kB]\n",
            "Get:24 http://archive.ubuntu.com/ubuntu bionic-updates/restricted amd64 Packages [665 kB]\n",
            "Get:25 http://archive.ubuntu.com/ubuntu bionic-updates/main amd64 Packages [2,835 kB]\n",
            "Get:26 http://ppa.launchpad.net/deadsnakes/ppa/ubuntu bionic/main amd64 Packages [45.3 kB]\n",
            "Fetched 14.1 MB in 5s (3,096 kB/s)\n",
            "Reading package lists... Done\n"
          ]
        }
      ]
    },
    {
      "cell_type": "code",
      "metadata": {
        "colab": {
          "base_uri": "https://localhost:8080/"
        },
        "id": "y0n6ZMyWnL8U",
        "outputId": "f46a9392-3ada-4830-b2fb-dc7be04cf9b1"
      },
      "source": [
        "\n",
        "!pip install pyspark"
      ],
      "execution_count": 2,
      "outputs": [
        {
          "output_type": "stream",
          "name": "stdout",
          "text": [
            "Collecting pyspark\n",
            "  Downloading pyspark-3.2.0.tar.gz (281.3 MB)\n",
            "\u001b[K     |████████████████████████████████| 281.3 MB 35 kB/s \n",
            "\u001b[?25hCollecting py4j==0.10.9.2\n",
            "  Downloading py4j-0.10.9.2-py2.py3-none-any.whl (198 kB)\n",
            "\u001b[K     |████████████████████████████████| 198 kB 52.8 MB/s \n",
            "\u001b[?25hBuilding wheels for collected packages: pyspark\n",
            "  Building wheel for pyspark (setup.py) ... \u001b[?25l\u001b[?25hdone\n",
            "  Created wheel for pyspark: filename=pyspark-3.2.0-py2.py3-none-any.whl size=281805912 sha256=8dd1c47c50370a8aee1da2ac7234f70106453f63fd1f0174440155cde8044878\n",
            "  Stored in directory: /root/.cache/pip/wheels/0b/de/d2/9be5d59d7331c6c2a7c1b6d1a4f463ce107332b1ecd4e80718\n",
            "Successfully built pyspark\n",
            "Installing collected packages: py4j, pyspark\n",
            "Successfully installed py4j-0.10.9.2 pyspark-3.2.0\n"
          ]
        }
      ]
    },
    {
      "cell_type": "code",
      "metadata": {
        "colab": {
          "base_uri": "https://localhost:8080/"
        },
        "id": "Kk-bQYCKnwP2",
        "outputId": "7d2c3b68-2b83-48ba-fef3-701eb7d42705"
      },
      "source": [
        "\n",
        "!wget https://jdbc.postgresql.org/download/postgresql-42.2.16.jar"
      ],
      "execution_count": 3,
      "outputs": [
        {
          "output_type": "stream",
          "name": "stdout",
          "text": [
            "--2021-10-24 00:07:13--  https://jdbc.postgresql.org/download/postgresql-42.2.16.jar\n",
            "Resolving jdbc.postgresql.org (jdbc.postgresql.org)... 72.32.157.228, 2001:4800:3e1:1::228\n",
            "Connecting to jdbc.postgresql.org (jdbc.postgresql.org)|72.32.157.228|:443... connected.\n",
            "HTTP request sent, awaiting response... 200 OK\n",
            "Length: 1002883 (979K) [application/java-archive]\n",
            "Saving to: ‘postgresql-42.2.16.jar’\n",
            "\n",
            "postgresql-42.2.16. 100%[===================>] 979.38K  5.67MB/s    in 0.2s    \n",
            "\n",
            "2021-10-24 00:07:13 (5.67 MB/s) - ‘postgresql-42.2.16.jar’ saved [1002883/1002883]\n",
            "\n"
          ]
        }
      ]
    },
    {
      "cell_type": "code",
      "metadata": {
        "id": "vSWsMp0hn60k"
      },
      "source": [
        "from pyspark.sql import SparkSession\n",
        "spark = SparkSession.builder.appName(\"BigData-Challenge\").config(\"spark.driver.extraClassPath\",\"/content/postgresql-42.2.16.jar\").getOrCreate()"
      ],
      "execution_count": 4,
      "outputs": []
    },
    {
      "cell_type": "code",
      "metadata": {
        "colab": {
          "base_uri": "https://localhost:8080/"
        },
        "id": "TNWutPTsoFuW",
        "outputId": "3d5b1d5a-4999-45cf-ba9f-e3cf12115235"
      },
      "source": [
        "from pyspark import SparkFiles\n",
        "url = \"https://s3.amazonaws.com/amazon-reviews-pds/tsv/amazon_reviews_us_Books_v1_01.tsv.gz\"\n",
        "spark.sparkContext.addFile(url)\n",
        "df = spark.read.option(\"encoding\", \"UTF-8\").csv(SparkFiles.get(\"amazon_reviews_us_Books_v1_01.tsv.gz\"), sep=\"\\t\", header=True, inferSchema=True)\n",
        "df.show()"
      ],
      "execution_count": 5,
      "outputs": [
        {
          "output_type": "stream",
          "name": "stdout",
          "text": [
            "+-----------+-----------+--------------+----------+--------------+--------------------+----------------+-----------+-------------+-----------+----+-----------------+--------------------+--------------------+-----------+\n",
            "|marketplace|customer_id|     review_id|product_id|product_parent|       product_title|product_category|star_rating|helpful_votes|total_votes|vine|verified_purchase|     review_headline|         review_body|review_date|\n",
            "+-----------+-----------+--------------+----------+--------------+--------------------+----------------+-----------+-------------+-----------+----+-----------------+--------------------+--------------------+-----------+\n",
            "|         US|   22480053|R28HBXXO1UEVJT|0843952016|      34858117|          The Rising|           Books|          5|            0|          0|   N|                N|Great Twist on Zo...|I've known about ...| 2012-05-03|\n",
            "|         US|   44244451| RZKRFS2UUMFFU|031088926X|     676347131|Sticky Faith Teen...|           Books|          5|           15|         15|   N|                Y|Helpful and Pract...|The student curri...| 2012-05-03|\n",
            "|         US|   20357422|R2WAU9MD9K6JQA|0615268102|     763837025|Black Passenger Y...|           Books|          3|            6|          8|   N|                N|                Paul|I found \\\\\"Black ...| 2012-05-03|\n",
            "|         US|   13235208|R36SCTKYTVPZPC|1900869225|     785539232|Direction and Des...|           Books|          5|           10|         11|   N|                Y|Direction and Des...|Sasportas is a br...| 2012-05-03|\n",
            "|         US|   26301786|R10BM6JUOJX27Q|1565129938|      64646125| Until the Next Time|           Books|          3|            0|          0|   Y|                N|       This was Okay|I wanted to love ...| 2012-05-03|\n",
            "|         US|   27780192| RCLZ5OKZNUSY4|146854456X|     270349766| Unfinished Business|           Books|          5|            0|          0|   N|                Y|   Excellent read!!!|What an exciting ...| 2012-05-03|\n",
            "|         US|   13041546|R1S65DJYEI89G4|1118094514|     752141158|The Republican Br...|           Books|          4|            8|         17|   N|                N|A must read for s...|This book is exce...| 2012-05-03|\n",
            "|         US|   51692331|R3KQYBQOLYDETV|0563521147|     729491316|Good Food: 101 Ca...|           Books|          4|            2|          2|   N|                N|   Chocoholic heaven|If you are on a d...| 2012-05-03|\n",
            "|         US|   23108524|R3QV8K7CSU8K2W|0669444421|     261004015|Patterns and Quil...|           Books|          5|            0|          0|   N|                N|Quilt Art Project...|Written by quilt ...| 2012-05-03|\n",
            "|         US|   51692331|R3W5A1WUGO5VQ0|1897784457|     497876045|Practical Food Sm...|           Books|          4|            0|          1|   N|                N|         A good read|Food smoking has ...| 2012-05-03|\n",
            "|         US|   49438248|R20AQCY3FMBVN5|0316738158|     691490916|The Big Love: A N...|           Books|          5|            0|          0|   N|                N|One of my favorites!|This is one of my...| 2012-05-03|\n",
            "|         US|   11818020| R7KY8VL871MVL|0738730440|     544176812|Around the Tarot ...|           Books|          5|           13|         15|   N|                Y|A must for tarot ...|I have been waiti...| 2012-05-03|\n",
            "|         US|   51692331| RHF5E4UOL5LQ3|1902842286|     698916699|Favourite Apple R...|           Books|          5|            2|          2|   N|                N|  A good little book|Jane Austen said ...| 2012-05-03|\n",
            "|         US|   29446920|R1LMUDN5M9G6ZZ|1465399577|     922463098|       Kevin and Tak|           Books|          5|            0|          0|   N|                N|            so great|I felt this was a...| 2012-05-03|\n",
            "|         US|   33284115| RNGA47KD4CEB8|0061934704|     740765152|Opium Nation: Chi...|           Books|          5|            0|          0|   N|                N|Knowing Afghanist...|Fariba Nawa, desc...| 2012-05-03|\n",
            "|         US|   44728718|R33MYHP5RY1139|1432729039|     116349266|        True to Life|           Books|          5|            3|          3|   N|                N|Modern poetry tha...|For many, reading...| 2012-05-03|\n",
            "|         US|   52534548|R18VIM840CEFRP|1621360075|     143884185|The Real Kosher J...|           Books|          1|           16|        105|   N|                N|                 SLH|I'm sorry, but ca...| 2012-05-03|\n",
            "|         US|   37836302| RQOZBXX7M0U6H|097723732X|     106641033|Idioms Go To The ...|           Books|          5|            0|          0|   N|                N|         Great book!|The (slightly) ea...| 2012-05-03|\n",
            "|         US|   38588903|R3SH84TAORQP2T|0983945209|     377432437|Elsie -  Adventur...|           Books|          5|            3|          3|   N|                N|      Terrific Book!|By Den Adler<br /...| 2012-05-03|\n",
            "|         US|   49148452| RL1OHWOHPM7RO|1419701630|     307676830|Chuck Close: Face...|           Books|          5|            8|          9|   N|                N|  Close and personal|The autobiography...| 2012-05-03|\n",
            "+-----------+-----------+--------------+----------+--------------+--------------------+----------------+-----------+-------------+-----------+----+-----------------+--------------------+--------------------+-----------+\n",
            "only showing top 20 rows\n",
            "\n"
          ]
        }
      ]
    },
    {
      "cell_type": "code",
      "metadata": {
        "colab": {
          "base_uri": "https://localhost:8080/"
        },
        "id": "oGxeLhovpH5n",
        "outputId": "2592e071-ad21-4213-df22-3f2abb36e530"
      },
      "source": [
        "#Filter the data and create a new DataFrame or table to retrieve all the rows where the total_votes count is equal to or greater than 20 \n",
        "df1 = df.filter(df.total_votes >= 20)\n",
        "df1.show()"
      ],
      "execution_count": 7,
      "outputs": [
        {
          "output_type": "stream",
          "name": "stdout",
          "text": [
            "+-----------+-----------+--------------+----------+--------------+--------------------+----------------+-----------+-------------+-----------+----+-----------------+--------------------+--------------------+-----------+\n",
            "|marketplace|customer_id|     review_id|product_id|product_parent|       product_title|product_category|star_rating|helpful_votes|total_votes|vine|verified_purchase|     review_headline|         review_body|review_date|\n",
            "+-----------+-----------+--------------+----------+--------------+--------------------+----------------+-----------+-------------+-----------+----+-----------------+--------------------+--------------------+-----------+\n",
            "|         US|   52534548|R18VIM840CEFRP|1621360075|     143884185|The Real Kosher J...|           Books|          1|           16|        105|   N|                N|                 SLH|I'm sorry, but ca...| 2012-05-03|\n",
            "|         US|   49541983|R14PMAJTY0EAAT|1937007456|     411822135|The Lost Fleet: B...|           Books|          4|          135|        142|   N|                Y|Good Continuation...|Bottom line is th...| 2012-05-03|\n",
            "|         US|   52978967|R1363VA3TPNLVB|0670022969|     432940103|American Nations:...|           Books|          5|          370|        388|   N|                Y|Like scales falli...|Colin Woodard has...| 2012-05-03|\n",
            "|         US|   52445438| RBQZC5A3TSWT5|085768986X|      69886969|Joss Whedon: The ...|           Books|          5|           11|         22|   N|                Y| it's full of words!|i pre-ordered thi...| 2012-05-02|\n",
            "|         US|   25822716| RW00TDPV9U93E|1595554599|     942139077|The Jefferson Lie...|           Books|          1|           35|         76|   N|                N|Saw the author on...|I saw the author ...| 2012-05-02|\n",
            "|         US|   52977415|R3OW0AIVLEDIQ7|0262016729|     624789283|The Clash of Gene...|           Books|          3|           99|        121|   N|                N|Fiscal analysis 1...|This book covers ...| 2012-05-02|\n",
            "|         US|   26721603|R3DTESO4FUAPKQ|1455502413|     137970084|Rather Outspoken:...|           Books|          5|           90|        102|   N|                N|Rather knocks it ...|I have worked for...| 2012-05-02|\n",
            "|         US|   39735480|R18I0XBYWFSR5T|1595554599|     942139077|The Jefferson Lie...|           Books|          1|           16|         50|   N|                N|           apt title|I was curious abo...| 2012-05-02|\n",
            "|         US|   31398202|R1VSQ3QK30VDI0|0393088774|     132712094|End This Depressi...|           Books|          5|           23|         35|   N|                N|Clear arguments u...|This is a great b...| 2012-05-02|\n",
            "|         US|   13575437|R3NEJBF4FXMVUU|1609412427|     422462452|Vegan Cooking for...|           Books|          5|           87|         90|   N|                Y|Cooking up a stor...|I love this book....| 2012-05-02|\n",
            "|         US|   14213000|R34ZTQTHWRHT5R|1893183246|      42346661|Voyagers: The Sle...|           Books|          5|           18|         20|   N|                Y|        Enlightening|After determining...| 2012-05-02|\n",
            "|         US|   30627084|R367X555006ROC|0984975314|     617362935|Arena One: Slaver...|           Books|          1|           39|         44|   N|                N|This is NOT \"The ...|This dystopian YA...| 2012-05-02|\n",
            "|         US|   32783890| R4NCMAZCRAXHT|1584798947|     555497783|CakeLove in the M...|           Books|          3|           19|         21|   N|                N|For the novice ba...|Pros: beautiful p...| 2012-05-02|\n",
            "|         US|   10275785|R1WQJ6BTGTJNHM|0029166500|     496838867|The Triumph of Co...|           Books|          3|            6|         47|   N|                N|            Ayn Rand|\\\\\"A mixed econom...| 2012-05-02|\n",
            "|         US|   10634581|R33JIVA97UYKH2|1611453305|     328274764|Perfume: The Alch...|           Books|          2|           23|         29|   N|                Y|    Fails to Deliver|This book disappo...| 2012-05-02|\n",
            "|         US|   24512353| RSD6TF0E24D9P|0061985120|      64682743|Still the Best Ho...|           Books|          5|           30|         34|   N|                Y|PLEASE ACTIVATE F...|As I believe the ...| 2012-05-02|\n",
            "|         US|   46969326|R2DLFW0GMIFTKP|0761155589|     818975183|Just Ride: A Radi...|           Books|          5|           53|         58|   N|                Y|           Just Read|A few years ago I...| 2012-05-02|\n",
            "|         US|   24202187| RQZ638E0E34Z3|1937007448|     512918432|Deadlocked (Sooki...|           Books|          2|          259|        299|   N|                N|Really not very good|I have loved all ...| 2012-05-02|\n",
            "|         US|   35906535|R2RP1D1I036Q6C|0393338827|      80223098|The Big Short: In...|           Books|          1|           20|         34|   N|                N|      Self-indulgent|Micheal Lewis wri...| 2012-05-02|\n",
            "|         US|   26356879|R3TJPP6SLHXO41|1591843529|     284133276|The Personal MBA:...|           Books|          1|           16|         27|   N|                Y|This book was not...|The Personal MBA ...| 2012-05-02|\n",
            "+-----------+-----------+--------------+----------+--------------+--------------------+----------------+-----------+-------------+-----------+----+-----------------+--------------------+--------------------+-----------+\n",
            "only showing top 20 rows\n",
            "\n"
          ]
        }
      ]
    },
    {
      "cell_type": "code",
      "metadata": {
        "colab": {
          "base_uri": "https://localhost:8080/"
        },
        "id": "L6nTwopFpPGy",
        "outputId": "5a5b8ba2-2167-4ef8-b5ed-eb16a13675a1"
      },
      "source": [
        "#Filter the new DataFrame or table created in Step 1 and create a new DataFrame or table to retrieve all the rows where the number of helpful_votes divided by total_votes is equal to or greater than 50%.\n",
        "df2 = df1.filter((df1.helpful_votes / df1.total_votes) >= 0.5)\n",
        "df2.show()"
      ],
      "execution_count": 8,
      "outputs": [
        {
          "output_type": "stream",
          "name": "stdout",
          "text": [
            "+-----------+-----------+--------------+----------+--------------+--------------------+----------------+-----------+-------------+-----------+----+-----------------+--------------------+--------------------+-----------+\n",
            "|marketplace|customer_id|     review_id|product_id|product_parent|       product_title|product_category|star_rating|helpful_votes|total_votes|vine|verified_purchase|     review_headline|         review_body|review_date|\n",
            "+-----------+-----------+--------------+----------+--------------+--------------------+----------------+-----------+-------------+-----------+----+-----------------+--------------------+--------------------+-----------+\n",
            "|         US|   49541983|R14PMAJTY0EAAT|1937007456|     411822135|The Lost Fleet: B...|           Books|          4|          135|        142|   N|                Y|Good Continuation...|Bottom line is th...| 2012-05-03|\n",
            "|         US|   52978967|R1363VA3TPNLVB|0670022969|     432940103|American Nations:...|           Books|          5|          370|        388|   N|                Y|Like scales falli...|Colin Woodard has...| 2012-05-03|\n",
            "|         US|   52445438| RBQZC5A3TSWT5|085768986X|      69886969|Joss Whedon: The ...|           Books|          5|           11|         22|   N|                Y| it's full of words!|i pre-ordered thi...| 2012-05-02|\n",
            "|         US|   52977415|R3OW0AIVLEDIQ7|0262016729|     624789283|The Clash of Gene...|           Books|          3|           99|        121|   N|                N|Fiscal analysis 1...|This book covers ...| 2012-05-02|\n",
            "|         US|   26721603|R3DTESO4FUAPKQ|1455502413|     137970084|Rather Outspoken:...|           Books|          5|           90|        102|   N|                N|Rather knocks it ...|I have worked for...| 2012-05-02|\n",
            "|         US|   31398202|R1VSQ3QK30VDI0|0393088774|     132712094|End This Depressi...|           Books|          5|           23|         35|   N|                N|Clear arguments u...|This is a great b...| 2012-05-02|\n",
            "|         US|   13575437|R3NEJBF4FXMVUU|1609412427|     422462452|Vegan Cooking for...|           Books|          5|           87|         90|   N|                Y|Cooking up a stor...|I love this book....| 2012-05-02|\n",
            "|         US|   14213000|R34ZTQTHWRHT5R|1893183246|      42346661|Voyagers: The Sle...|           Books|          5|           18|         20|   N|                Y|        Enlightening|After determining...| 2012-05-02|\n",
            "|         US|   30627084|R367X555006ROC|0984975314|     617362935|Arena One: Slaver...|           Books|          1|           39|         44|   N|                N|This is NOT \"The ...|This dystopian YA...| 2012-05-02|\n",
            "|         US|   32783890| R4NCMAZCRAXHT|1584798947|     555497783|CakeLove in the M...|           Books|          3|           19|         21|   N|                N|For the novice ba...|Pros: beautiful p...| 2012-05-02|\n",
            "|         US|   10634581|R33JIVA97UYKH2|1611453305|     328274764|Perfume: The Alch...|           Books|          2|           23|         29|   N|                Y|    Fails to Deliver|This book disappo...| 2012-05-02|\n",
            "|         US|   24512353| RSD6TF0E24D9P|0061985120|      64682743|Still the Best Ho...|           Books|          5|           30|         34|   N|                Y|PLEASE ACTIVATE F...|As I believe the ...| 2012-05-02|\n",
            "|         US|   46969326|R2DLFW0GMIFTKP|0761155589|     818975183|Just Ride: A Radi...|           Books|          5|           53|         58|   N|                Y|           Just Read|A few years ago I...| 2012-05-02|\n",
            "|         US|   24202187| RQZ638E0E34Z3|1937007448|     512918432|Deadlocked (Sooki...|           Books|          2|          259|        299|   N|                N|Really not very good|I have loved all ...| 2012-05-02|\n",
            "|         US|   35906535|R2RP1D1I036Q6C|0393338827|      80223098|The Big Short: In...|           Books|          1|           20|         34|   N|                N|      Self-indulgent|Micheal Lewis wri...| 2012-05-02|\n",
            "|         US|   26356879|R3TJPP6SLHXO41|1591843529|     284133276|The Personal MBA:...|           Books|          1|           16|         27|   N|                Y|This book was not...|The Personal MBA ...| 2012-05-02|\n",
            "|         US|   42590007|R2DK25C3UOICDC|1118204123|     398659789|iOS Hacker's Hand...|           Books|          5|           13|         22|   N|                N|Great book. Stop ...|This is a great b...| 2012-05-02|\n",
            "|         US|   26851687|R3LWNR7QFH1P0U|1581604521|     758372207|Speak Like A Nati...|           Books|          1|           18|         24|   N|                N|It's like reading...|This review is fr...| 2012-05-02|\n",
            "|         US|   46381757|R32X7O6DKBEXM0|1439193541|     701007257|American Canopy: ...|           Books|          5|           25|         26|   N|                N|     Ground breaking|This is a real ma...| 2012-05-02|\n",
            "|         US|    9973109|R16VVIH03CTRHB|1905605285|     400609443|Puzzling People: ...|           Books|          5|           16|         25|   N|                Y|          Great read|This is a great b...| 2012-05-02|\n",
            "+-----------+-----------+--------------+----------+--------------+--------------------+----------------+-----------+-------------+-----------+----+-----------------+--------------------+--------------------+-----------+\n",
            "only showing top 20 rows\n",
            "\n"
          ]
        }
      ]
    },
    {
      "cell_type": "code",
      "metadata": {
        "colab": {
          "base_uri": "https://localhost:8080/"
        },
        "id": "91RV5YTGpTTs",
        "outputId": "c76509a1-ce40-42f5-90ed-f429571b7c7c"
      },
      "source": [
        "#Filter the DataFrame or table created in Step 2, and create a new DataFrame or table that retrieves all the rows where a review was written as part of the Vine program (paid), vine == 'Y'.\n",
        "df_Y = df2.filter(df2.vine == 'Y')\n",
        "df_Y.show()"
      ],
      "execution_count": 9,
      "outputs": [
        {
          "output_type": "stream",
          "name": "stdout",
          "text": [
            "+-----------+-----------+--------------+----------+--------------+--------------------+----------------+-----------+-------------+-----------+----+-----------------+--------------------+--------------------+-----------+\n",
            "|marketplace|customer_id|     review_id|product_id|product_parent|       product_title|product_category|star_rating|helpful_votes|total_votes|vine|verified_purchase|     review_headline|         review_body|review_date|\n",
            "+-----------+-----------+--------------+----------+--------------+--------------------+----------------+-----------+-------------+-----------+----+-----------------+--------------------+--------------------+-----------+\n",
            "|         US|   50673938|R2Z8083V8ZFQVZ|1612183549|     561835180|Redemption (The P...|           Books|          3|           82|         87|   Y|                N|     Promising debut|The positives:  t...| 2012-05-02|\n",
            "|         US|   35653914| RK25TAO4GGS5G|0547567375|     266689242|The Bell Bandit (...|           Books|          3|           22|         24|   Y|                N|Torture Scene Cos...|There were many a...| 2012-05-02|\n",
            "|         US|   42944532|R2SJQG3C6KY0M8|1742205933|     287545472|The World's Best ...|           Books|          3|           18|         20|   Y|                N|For armchair cook...|The wonderful int...| 2012-05-02|\n",
            "|         US|   15737193|R12CHC0CB2WASU|1612183174|     198757847|           King City|           Books|          5|           43|         48|   Y|                N|There's a new she...|Detective Tom Wad...| 2012-05-02|\n",
            "|         US|   52772260|R2RY328TIDXMTE|0470647736|     665259602|The Scientific Am...|           Books|          2|           50|         61|   Y|                N|Some inaccurate i...|I have a degree i...| 2012-05-02|\n",
            "|         US|   42632783|R3K8OQU4PEP8W7|1594487014|      47188036|       The Chaperone|           Books|          4|           40|         46|   Y|                N|      A joy to read.|The Chaperone<br ...| 2012-05-01|\n",
            "|         US|   44863880|R1JI1A7JT99538|030758836X|      93816562|           Gone Girl|           Books|          3|           28|         40|   Y|                N|Starts off real s...|I'm just going to...| 2012-05-01|\n",
            "|         US|   30575449|R247K3K5SVPJUL|0374192049|     262803045|Little Century: A...|           Books|          3|           15|         20|   Y|                N|Tale of the Almos...|LITTLE CENTURY by...| 2012-04-30|\n",
            "|         US|   47770260|R27UEUDUYPLXZC|0132944677|     855208343|The College Solut...|           Books|          5|           20|         24|   Y|                N|This is the pract...|This is it.  The ...| 2012-04-30|\n",
            "|         US|   35417238|R2QQDNBYDIEL9F|1612182321|     674641303|Technomancer (Uns...|           Books|          5|           35|         41|   Y|                N| A Thrilling Mystery|Quentin Draith wa...| 2012-04-30|\n",
            "|         US|   52536258|R26ELQU09IPX5K|0307599590|     733854560|               Perla|           Books|          2|           11|         21|   Y|                N|Overwritten and w...|This is an intere...| 2012-04-29|\n",
            "|         US|   52564644| RSKUR90HGW6PY|0765316994|     393507760|Redshirts: A Nove...|           Books|          3|           34|         54|   Y|                N|Not as Good As I ...|We all know if yo...| 2012-04-29|\n",
            "|         US|   33376665|R1W7MQRB02CRG8|0062107968|     652614717|The Cottage at Gl...|           Books|          4|           20|         22|   Y|                N|The writing is lo...|For me the best p...| 2012-04-29|\n",
            "|         US|   52499409|R3LJN6BQL2F0BR|1612182070|     704852287|         Liquid Fear|           Books|          1|           28|         34|   Y|                N|Sure glad I didn'...|I almost NEVER gi...| 2012-04-29|\n",
            "|         US|   53070450|R3FO8YQ2BKL1RG|1118107381|      89683871|Evernote For Dummies|           Books|          5|           93|         94|   Y|                N|This is THE guide...|Evernote is a gre...| 2012-04-28|\n",
            "|         US|   33544477|R27HEI4FN6TZQ7|0062103733|     962376497|          Unraveling|           Books|          3|           20|         27|   Y|                N|Complex--or convo...|I must start by s...| 2012-04-28|\n",
            "|         US|   52904056|R3DRE8T4NTEWNV|111802740X|     925010801|Frommer's New Yor...|           Books|          5|           28|         28|   Y|                N|An excellent reso...|For years I've pe...| 2012-04-28|\n",
            "|         US|   50529050|R33G38RMCEXIVD|1594203377|     346152424|The Queen's Lover...|           Books|          4|           28|         29|   Y|                N|Marie Antoinette ...|Marie Antoinette ...| 2012-04-28|\n",
            "|         US|   14653952|R2ZD6GIDCKAJNM|0805094598|     380937934|Shadow and Bone (...|           Books|          5|          118|        139|   Y|                N|     Shadow and Bone|How can I convey ...| 2012-04-28|\n",
            "|         US|   43449150|R3DKQQNX6X3VTU|0399157646|     311942957|            Overseas|           Books|          4|           53|         56|   Y|                N|5-star story, 4-s...|I am not a reader...| 2012-04-27|\n",
            "+-----------+-----------+--------------+----------+--------------+--------------------+----------------+-----------+-------------+-----------+----+-----------------+--------------------+--------------------+-----------+\n",
            "only showing top 20 rows\n",
            "\n"
          ]
        }
      ]
    },
    {
      "cell_type": "code",
      "metadata": {
        "colab": {
          "base_uri": "https://localhost:8080/"
        },
        "id": "INJNZRtxpdCv",
        "outputId": "69bc8074-a36c-4187-ec17-a1a5d38faa56"
      },
      "source": [
        "#retrieve all the rows where the review was not part of the Vine program (unpaid), vine == 'N'.\n",
        "df_N = df2.filter(df2.vine == 'N')\n",
        "df_N.show()"
      ],
      "execution_count": 10,
      "outputs": [
        {
          "output_type": "stream",
          "name": "stdout",
          "text": [
            "+-----------+-----------+--------------+----------+--------------+--------------------+----------------+-----------+-------------+-----------+----+-----------------+--------------------+--------------------+-----------+\n",
            "|marketplace|customer_id|     review_id|product_id|product_parent|       product_title|product_category|star_rating|helpful_votes|total_votes|vine|verified_purchase|     review_headline|         review_body|review_date|\n",
            "+-----------+-----------+--------------+----------+--------------+--------------------+----------------+-----------+-------------+-----------+----+-----------------+--------------------+--------------------+-----------+\n",
            "|         US|   49541983|R14PMAJTY0EAAT|1937007456|     411822135|The Lost Fleet: B...|           Books|          4|          135|        142|   N|                Y|Good Continuation...|Bottom line is th...| 2012-05-03|\n",
            "|         US|   52978967|R1363VA3TPNLVB|0670022969|     432940103|American Nations:...|           Books|          5|          370|        388|   N|                Y|Like scales falli...|Colin Woodard has...| 2012-05-03|\n",
            "|         US|   52445438| RBQZC5A3TSWT5|085768986X|      69886969|Joss Whedon: The ...|           Books|          5|           11|         22|   N|                Y| it's full of words!|i pre-ordered thi...| 2012-05-02|\n",
            "|         US|   52977415|R3OW0AIVLEDIQ7|0262016729|     624789283|The Clash of Gene...|           Books|          3|           99|        121|   N|                N|Fiscal analysis 1...|This book covers ...| 2012-05-02|\n",
            "|         US|   26721603|R3DTESO4FUAPKQ|1455502413|     137970084|Rather Outspoken:...|           Books|          5|           90|        102|   N|                N|Rather knocks it ...|I have worked for...| 2012-05-02|\n",
            "|         US|   31398202|R1VSQ3QK30VDI0|0393088774|     132712094|End This Depressi...|           Books|          5|           23|         35|   N|                N|Clear arguments u...|This is a great b...| 2012-05-02|\n",
            "|         US|   13575437|R3NEJBF4FXMVUU|1609412427|     422462452|Vegan Cooking for...|           Books|          5|           87|         90|   N|                Y|Cooking up a stor...|I love this book....| 2012-05-02|\n",
            "|         US|   14213000|R34ZTQTHWRHT5R|1893183246|      42346661|Voyagers: The Sle...|           Books|          5|           18|         20|   N|                Y|        Enlightening|After determining...| 2012-05-02|\n",
            "|         US|   30627084|R367X555006ROC|0984975314|     617362935|Arena One: Slaver...|           Books|          1|           39|         44|   N|                N|This is NOT \"The ...|This dystopian YA...| 2012-05-02|\n",
            "|         US|   32783890| R4NCMAZCRAXHT|1584798947|     555497783|CakeLove in the M...|           Books|          3|           19|         21|   N|                N|For the novice ba...|Pros: beautiful p...| 2012-05-02|\n",
            "|         US|   10634581|R33JIVA97UYKH2|1611453305|     328274764|Perfume: The Alch...|           Books|          2|           23|         29|   N|                Y|    Fails to Deliver|This book disappo...| 2012-05-02|\n",
            "|         US|   24512353| RSD6TF0E24D9P|0061985120|      64682743|Still the Best Ho...|           Books|          5|           30|         34|   N|                Y|PLEASE ACTIVATE F...|As I believe the ...| 2012-05-02|\n",
            "|         US|   46969326|R2DLFW0GMIFTKP|0761155589|     818975183|Just Ride: A Radi...|           Books|          5|           53|         58|   N|                Y|           Just Read|A few years ago I...| 2012-05-02|\n",
            "|         US|   24202187| RQZ638E0E34Z3|1937007448|     512918432|Deadlocked (Sooki...|           Books|          2|          259|        299|   N|                N|Really not very good|I have loved all ...| 2012-05-02|\n",
            "|         US|   35906535|R2RP1D1I036Q6C|0393338827|      80223098|The Big Short: In...|           Books|          1|           20|         34|   N|                N|      Self-indulgent|Micheal Lewis wri...| 2012-05-02|\n",
            "|         US|   26356879|R3TJPP6SLHXO41|1591843529|     284133276|The Personal MBA:...|           Books|          1|           16|         27|   N|                Y|This book was not...|The Personal MBA ...| 2012-05-02|\n",
            "|         US|   42590007|R2DK25C3UOICDC|1118204123|     398659789|iOS Hacker's Hand...|           Books|          5|           13|         22|   N|                N|Great book. Stop ...|This is a great b...| 2012-05-02|\n",
            "|         US|   26851687|R3LWNR7QFH1P0U|1581604521|     758372207|Speak Like A Nati...|           Books|          1|           18|         24|   N|                N|It's like reading...|This review is fr...| 2012-05-02|\n",
            "|         US|   46381757|R32X7O6DKBEXM0|1439193541|     701007257|American Canopy: ...|           Books|          5|           25|         26|   N|                N|     Ground breaking|This is a real ma...| 2012-05-02|\n",
            "|         US|    9973109|R16VVIH03CTRHB|1905605285|     400609443|Puzzling People: ...|           Books|          5|           16|         25|   N|                Y|          Great read|This is a great b...| 2012-05-02|\n",
            "+-----------+-----------+--------------+----------+--------------+--------------------+----------------+-----------+-------------+-----------+----+-----------------+--------------------+--------------------+-----------+\n",
            "only showing top 20 rows\n",
            "\n"
          ]
        }
      ]
    },
    {
      "cell_type": "code",
      "metadata": {
        "colab": {
          "base_uri": "https://localhost:8080/"
        },
        "id": "LYH73LNGqMDG",
        "outputId": "dc9ca738-584f-4605-c4f2-356475a07c81"
      },
      "source": [
        "#Determine the total number of reviews, the number of 5-star reviews, and the percentage of 5-star reviews for the two types of review (paid vs unpaid).\n",
        "from pyspark.sql.functions import count\n",
        "# Total number of reviews Paid\n",
        "Y_review_count = df_Y.count()\n",
        "print(\"Total Number of Reviews PAID : %f\" % Y_review_count)\n"
      ],
      "execution_count": 18,
      "outputs": [
        {
          "output_type": "stream",
          "name": "stdout",
          "text": [
            "Total Number of Reviews PAID : 4781.000000\n"
          ]
        }
      ]
    },
    {
      "cell_type": "code",
      "metadata": {
        "colab": {
          "base_uri": "https://localhost:8080/"
        },
        "id": "l2dByqwexLda",
        "outputId": "1d03435a-070e-4475-c2d5-581021811972"
      },
      "source": [
        "# Total number of reviews Unpaid\n",
        "N_review_count = df_N.count()\n",
        "print(\"Total Number of Reviews UNPAID : %f\" % N_review_count)"
      ],
      "execution_count": 28,
      "outputs": [
        {
          "output_type": "stream",
          "name": "stdout",
          "text": [
            "Total Number of Reviews UNPAID : 332395.000000\n"
          ]
        }
      ]
    },
    {
      "cell_type": "code",
      "metadata": {
        "colab": {
          "base_uri": "https://localhost:8080/"
        },
        "id": "x6nv-PhJswpR",
        "outputId": "929feac0-98c5-4b69-e1d1-073ff8706b5f"
      },
      "source": [
        "# the number of 5-star reviews Paid\n",
        "df_5star_vine = df_Y.filter(df_Y[\"star_rating\"]==\"5\")\n",
        "print(\"The Number of 5-star Reviews Paid : %f\" % df_5star_vine.count())"
      ],
      "execution_count": 24,
      "outputs": [
        {
          "output_type": "stream",
          "name": "stdout",
          "text": [
            "The Number of 5-star Reviews Paid : 1604.000000\n"
          ]
        }
      ]
    },
    {
      "cell_type": "code",
      "metadata": {
        "colab": {
          "base_uri": "https://localhost:8080/"
        },
        "id": "iiU2iGa-vo3p",
        "outputId": "8ab23726-ed00-4c35-9423-b908f8b4f4e7"
      },
      "source": [
        "# the number of 5-star reviews Unpaid\n",
        "df_5star_novine = df_N.filter(df_N[\"star_rating\"]==\"5\")\n",
        "print(\"The Number of 5-star Reviews Unpaid: %f\" % df_5star_novine.count())"
      ],
      "execution_count": 25,
      "outputs": [
        {
          "output_type": "stream",
          "name": "stdout",
          "text": [
            "The Number of 5-star Reviews Unpaid: 168800.000000\n"
          ]
        }
      ]
    },
    {
      "cell_type": "code",
      "metadata": {
        "colab": {
          "base_uri": "https://localhost:8080/"
        },
        "id": "LASc1hOuu_OX",
        "outputId": "5f67bc99-38a0-4b81-8075-91d953c55491"
      },
      "source": [
        "#the percentage of 5-star reviews for paid \n",
        "pct_5star_vine = (df_5star_vine.count()/Y_review_count)\n",
        "print(\"Percent of 5-Star Reviews for PAID : %f\" % pct_5star_vine )"
      ],
      "execution_count": 34,
      "outputs": [
        {
          "output_type": "stream",
          "name": "stdout",
          "text": [
            "Percent of 5-Star Reviews for PAID : 0.335495\n"
          ]
        }
      ]
    },
    {
      "cell_type": "code",
      "metadata": {
        "colab": {
          "base_uri": "https://localhost:8080/"
        },
        "id": "6OCIE0_lvOYv",
        "outputId": "6de4c68a-1a61-4080-d7de-03ed4b83ad53"
      },
      "source": [
        "#the percentage of 5-star reviews for unpaid \n",
        "pct_5star_novine = (df_5star_novine.count()/N_review_count)\n",
        "print(\"Percent of 5-Star Furniture Reviews from UNPAID : %f\" % pct_5star_novine)"
      ],
      "execution_count": 30,
      "outputs": [
        {
          "output_type": "stream",
          "name": "stdout",
          "text": [
            "Percent of 5-Star Furniture Reviews from UNPAID : 0.507830\n"
          ]
        }
      ]
    }
  ]
}